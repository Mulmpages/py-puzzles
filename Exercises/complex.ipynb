{
 "cells": [
  {
   "cell_type": "markdown",
   "metadata": {},
   "source": [
    "# Eine komplexe Reise\n",
    "\n",
    "Zahlen sind doch etwas schönes. Wir können so viel mit ihnen machen! Wir können sie addieren, subtrahieren, multiplizieren, dividieren, potenzieren, und so weiter. Wir können sie auch in Listen speichern, und dann mit ihnen arbeiten. Wir können sie in Funktionen übergeben, und wir können sie aus Funktionen zurückbekommen.\n",
    "***\n",
    "Außerdem gibt es so viele verschiedene Zahlen! Es gibt natürliche, ganze, rationale, algebraische und reelle Zahlen.\n",
    "In Python können Zahlen auf verschiedene Arten erstellt werden und auch auf verschiedene Arten gespeichert werden.\n",
    "Jedes Objekt ist in Python eine Instanz einer Klasse. Mit `type()` kann die Klasse abgefragt werden."
   ]
  },
  {
   "cell_type": "code",
   "execution_count": null,
   "metadata": {},
   "outputs": [],
   "source": [
    "x = 1\n",
    "print(type(x))"
   ]
  },
  {
   "cell_type": "markdown",
   "metadata": {},
   "source": [
    "Gebe jetzt die Klasse für jedes Element in der Liste `nums` aus.\n",
    "Probiere vorherzusagen, was der Code ausgibt, bevor du ihn ausführst.\n",
    "Du kannst dir auch die Werte der Elemente ausgeben, und schauen ob dir etwas gemeines auffällt."
   ]
  },
  {
   "cell_type": "code",
   "execution_count": null,
   "metadata": {},
   "outputs": [],
   "source": [
    "import math\n",
    "\n",
    "nums = [1,\n",
    "        -1,\n",
    "        5.0,\n",
    "        2 + 1.5,\n",
    "        2 / 1.5,\n",
    "        3 / 2,\n",
    "        abs(-1),\n",
    "        abs(-1.0),\n",
    "        int(\"5\"),\n",
    "        float(\"5\"),\n",
    "        float(int(float(int(float(\"5.5\")))))]\n",
    "\n",
    "..."
   ]
  },
  {
   "cell_type": "markdown",
   "metadata": {},
   "source": [
    "Eine weitere Art von Zahl haben wir noch nicht gesehen: komplexe Zahlen!\n",
    "Tatsächlich gibt es diese auch als Datentyp in Python. Wir wollen sie aber selber bauen!\n",
    "\n",
    "\n",
    "Eine komplexe Zahl hat einen Realteil und einen Imaginärteil. Lass uns eine komplexe Zahl als Pärchen `(Re,Im)` darstellen.\n",
    "Berechne die Summe `x + y` mithilfe von Code und speichere das Ergebnis in `z`.\n",
    "\n",
    "Tipp: Für Tuple kannst du die normale Index-Notation verwenden, um an die einzelnen Elemente zu kommen."
   ]
  },
  {
   "cell_type": "code",
   "execution_count": null,
   "metadata": {},
   "outputs": [],
   "source": [
    "x = (1, 2)  # 1 + 2i\n",
    "y = (3, 4)  # 3 + 4i\n",
    "\n",
    "z = (..., ...)\n",
    "\n",
    "print(x, \" + \", y, \" = \", z)"
   ]
  },
  {
   "cell_type": "markdown",
   "metadata": {},
   "source": [
    "Es wäre praktisch, wenn wir diese Operation auslagern könnten. Vervollständige die Funktion `add()`!"
   ]
  },
  {
   "cell_type": "code",
   "execution_count": null,
   "metadata": {},
   "outputs": [],
   "source": [
    "def add(x, y):\n",
    "    ...\n",
    "\n",
    "z = add(x, y)\n",
    "print(x, \" + \", y, \" = \", z)\n",
    "print(type(z))"
   ]
  },
  {
   "cell_type": "markdown",
   "metadata": {},
   "source": [
    "Es kribbelt bestimmt schon in den Fingern, das ganze auch für minus, mal, geteilt und potenziert zu machen.\n",
    "Aber an dieser Stelle haben wir ein paar Unschönheiten:\n",
    "1. An der Funktion `add()` sieht man nicht, dass sie nur mit komplexen Zahlen funktioniert.\n",
    "2. An den Pärchen sieht man nicht, dass sie komplexe Zahlen darstellen.\n",
    "3. Die verschiedenen Definitionen liegen im Code weit auseinander.\n",
    "4. Eingebaute Funktionen wie `print` oder `+` funktionieren mit unseren komplexen Zahlen nicht.\n",
    "5. Die Ausgabe von `type()` ist nicht sehr aussagekräftig.\n",
    "\n",
    "\n",
    "Wir lösen alle diese Probleme auf einen Schlag, indem wir eine Klasse `Complex` definieren!\n",
    "Unten sieht du das Skelett dieser Klasse.\n",
    "\n",
    "Funktionen in dieser Klasse werden nicht mehr Funktionen, sondern Methoden genannt.\n",
    "Ein Objekt einer Klasse kan nerzeugt werden, indem der Konstruktor aufgerufen wird.\n",
    "Dieser Konstuktor ist eine Methode mit dem kryptischen Namen `__init__`.\n",
    "Jede Methode bekommt als erstes Argument `self` übergeben. `self` ist das Objekt, auf dem die Methode aufgerufen wird.\n",
    "Der Konstruktor benötigt noch den Realteil und den Imaginärteil als Argumente, und muss diese im Objekt als Attribute speichern.\n",
    "Der Realteil wird bereits gespeichert, vervollständige die Zeile für den Imaginärteil."
   ]
  },
  {
   "cell_type": "code",
   "execution_count": 22,
   "metadata": {},
   "outputs": [],
   "source": [
    "class Complex:\n",
    "    def __init__(self, re, im):\n",
    "        self.re = re\n",
    "        ..."
   ]
  },
  {
   "cell_type": "markdown",
   "metadata": {},
   "source": [
    "Die Methode `__init__` ist ein Beispiel für eine *Magic Method*. Sie wird von Python automatisch aufgerufen, wenn ein Objekt der Klasse erzeugt wird.\n",
    "Magic Methods sind an den doppelten Unterstrichen am Anfang und Ende des Namens zu erkennen.\n",
    "\n",
    "Testen wir aber zuerst einmal unsere Klasse! Erzeuge unten ein Objekt `z` der Klasse `Complex` mit dem Realteil 1 und dem Imaginärteil 2.\n",
    "Gebe dann `z` aus, und überprüfe, ob die Ausgabe aussagekräftiger ist als vorher."
   ]
  },
  {
   "cell_type": "code",
   "execution_count": null,
   "metadata": {},
   "outputs": [],
   "source": [
    "z = ...\n",
    "\n",
    "print(...)"
   ]
  },
  {
   "cell_type": "markdown",
   "metadata": {},
   "source": [
    "Ei, die Ausgabe sieht aber ziemlich unschön aus. Tatsächlich hat Python keine Chance, zu wissen, wie ein Objekt der Klasse `Complex` ausgegeben werden soll.\n",
    "Deswegen wird stattdessen eine ID des Objekts ausgegeben, die als eine Art Referenz auf das Objekt dient.\n",
    "\n",
    "Die ID kannst du auch mit der Funktion `id()` für jedes beliebige Objekt ausgeben!\n",
    "Probiere es einemal aus, und schaue ob die beiden IDs übereinstimmen."
   ]
  },
  {
   "cell_type": "code",
   "execution_count": null,
   "metadata": {},
   "outputs": [],
   "source": [
    "print(...)"
   ]
  },
  {
   "cell_type": "markdown",
   "metadata": {},
   "source": [
    "Glücklichesweise gibt es die magischen Methoden `__str__` und `__repr__`, die Python sagen, wie ein Objekt ausgegeben werden soll.\n",
    "- `__str__` wird verwendet, wenn das Objekt in `print` menschen-freundlich ausgegeben wird.\n",
    "- `__repr__` wird verwendet, wenn das Objekt so ausgegeben werden soll, dass die Ausgabe in Python wieder eingelesen werden kann.\n",
    "\n",
    "Beide Methoden müssen einen String zurückgeben, der die Ausgabe repräsentiert.\n",
    "Für unsere Zwecke reicht es aus, die Methode `__str__` zu definieren:"
   ]
  },
  {
   "cell_type": "code",
   "execution_count": null,
   "metadata": {},
   "outputs": [],
   "source": [
    "class Complex:\n",
    "    # Füge hier deinen bereits erstellten Code ein\n",
    "    \n",
    "    def __str__(self):\n",
    "        return ...\n",
    "\n",
    "z = Complex(1, 2)\n",
    "print(z)"
   ]
  },
  {
   "cell_type": "markdown",
   "metadata": {},
   "source": [
    "Kommen wir jetzt zum Addieren zurück. Die Funktion `add()`, die du oben geschrieben hast, nimmt zwei Komplexe Zahlen und gibt deren Summe zurück.\n",
    "Wenn wir diese Funktion direkt in die Klasse übernehmen, hätten wir eine etwas merkwürdige Situation:"
   ]
  },
  {
   "cell_type": "code",
   "execution_count": null,
   "metadata": {},
   "outputs": [],
   "source": [
    "class Complex:\n",
    "    # Füge hier deinen bereits erstellten Code ein\n",
    "    \n",
    "    def add(self, x, y):\n",
    "        return Complex(x.re + y.re, x.im + y.im)\n",
    "\n",
    "x = Complex(1, 2)\n",
    "y = Complex(3, 4)\n",
    "\n",
    "z = x.add(x, y)\n",
    "print(z)"
   ]
  },
  {
   "cell_type": "markdown",
   "metadata": {},
   "source": [
    "Wir müssten das `x` immer \"doppelt\" verwenden. Einmal als Objekt dessen Methode ausgerufen wird, und einmal als Argument.\n",
    "Eine andere Möglichkeit wäre, die Methode `add()` so abzuändern, dass sie nur das `y` nimmt, da das `x` ja schon im Objekt bekannt ist.\n",
    "Mache das einmal:"
   ]
  },
  {
   "cell_type": "code",
   "execution_count": null,
   "metadata": {},
   "outputs": [],
   "source": [
    "class Complex:\n",
    "    # Füge hier deinen bereits erstellten Code ein\n",
    "    \n",
    "    def add(self, y):\n",
    "        return ...\n",
    "\n",
    "x = Complex(1, 2)\n",
    "y = Complex(3, 4)\n",
    "\n",
    "z = x.add(y)\n",
    "print(z)"
   ]
  },
  {
   "cell_type": "markdown",
   "metadata": {},
   "source": [
    "- Ein dritter Ansatz ist, kein neues Objekt zurückzugeben sondern stattdessen die Attribute des aufrufenden Objekts (`x`) direkt zu verändern. Die Anwendung sieht dann so aus: `x.add(y)`\n",
    "- Ein vierter ist, den ersten Ansatz zu wählen und die Methode statisch zu machen, so dass sie auch ohne ein existierendes Objekt aufgerufen werden kann. Dafür kann der Dekorator `@staticmethod` verwendet werden. Die Anwendung sähe dann so aus: `z = Complex.add(x,y)`.\n",
    "\n",
    "Wir wollen aber noch einen fünften Ansatz kennenlernen, der sich für uns als der Beste herausstellen wird. Wenn man einen Operator wie `+` oder `-` verwendet (Bsp. `x = 1 + 2`) und diesen als Funktion auffasst, dann ähnelt er am ehesten dem vierten Ansatz: Er erhält zwei Argumente (das linke und das rechte) und gibt ein komplett neues Objekt zurück. Für diesen Fall gibt es auch eine magische Methode namens `__add__()`!\n",
    "\n",
    "Tatsächlich sieht diese in der Umsetzung aber eher wie der zweite Ansatz aus. Sie erhält als Argument das rechte Objekt, und muss das linke Objekt aus dem `self` herauslesen. Implementiere diese Methode:"
   ]
  },
  {
   "cell_type": "code",
   "execution_count": null,
   "metadata": {},
   "outputs": [],
   "source": [
    "class Complex:\n",
    "    # Füge hier deinen bereits erstellten Code ein\n",
    "    \n",
    "    def __add__(self, y):\n",
    "        return ...\n",
    "\n",
    "x = Complex(1, 2)\n",
    "y = Complex(3, 4)\n",
    "\n",
    "z = x + y\n",
    "print(z)"
   ]
  },
  {
   "cell_type": "markdown",
   "metadata": {},
   "source": [
    "Hurray!\n",
    "\n",
    "Unter [emulating-numeric-types](https://docs.python.org/3/reference/datamodel.html#emulating-numeric-types) und [emulating-comparisons](https://docs.python.org/3/reference/datamodel.html#object.__lt__) findest du weitere magische Methoden, die du implementieren kannst, um deine Klasse noch mächtiger zu machen.\n",
    "\n",
    "Schaffst du es, dass all die unten stehenden Tests erfolgreich sind?"
   ]
  },
  {
   "cell_type": "code",
   "execution_count": null,
   "metadata": {},
   "outputs": [],
   "source": [
    "class Complex:\n",
    "    # Füge hier so viel Code ein wie du willst!\n",
    "\n",
    "x = Complex(1, 2)\n",
    "y = Complex(3, 4)\n",
    "\n",
    "print(\n",
    "    abs(x),     # 2.23607\n",
    "    x == y,     # False\n",
    "    x + y,      # 4 + 6i\n",
    "    x - y,      # -2 - 2i\n",
    "    x * y,      # -5 + 10i\n",
    "    x ** 2,     # -3 +4i\n",
    "\n",
    "    sep=\"\\n\"\n",
    ")"
   ]
  },
  {
   "cell_type": "markdown",
   "metadata": {},
   "source": [
    "Wenn wir all diese Methoden parat haben, können wir mit unseren komplexen Zahlen genauso effizient arbeiten wie mit den eingebauten Zahlen!\n",
    "\n",
    "Zum Beispiel können wir die Methode $f(z, c) = z^2 + c$ definieren."
   ]
  },
  {
   "cell_type": "code",
   "execution_count": null,
   "metadata": {},
   "outputs": [],
   "source": [
    "def f(z, c):\n",
    "    ...\n",
    "\n",
    "x = Complex(1, 2)\n",
    "y = Complex(3, 4)\n",
    "\n",
    "print( f(x, y) )    # 8i"
   ]
  },
  {
   "cell_type": "markdown",
   "metadata": {},
   "source": [
    "Wir wollen jetzt untersuchen, wie sich diese Funktion verhält, wenn man sie iteriert. Was bedeutet das?\n",
    "\n",
    "Wir möchten ein bestimmtes $c$ vorgeben und zu Anfang $z=z_0=0 + 0i$ setzen.\n",
    "\n",
    "Dann berechnen wir $z_1 = f(z_0, c)$. Dann berechnen wir $z_2 = f(z_1, c)$, und so weiter.\n",
    "\n",
    "Damit wir das nicht von Hand machen müssen, schreiben wir eine Funktion `iter(c, n)`. Diese Funktion soll die Iteration $n$ mal durchführen und das Ergebnis zurückgeben. Zusätzlich soll die Funktion in jedem Schritt den aktuellen Wert von $z$ ausgeben."
   ]
  },
  {
   "cell_type": "code",
   "execution_count": null,
   "metadata": {},
   "outputs": [],
   "source": [
    "def iter(c, n):\n",
    "    ...\n",
    "\n",
    "\n",
    "# Zum Testen:\n",
    "# Erwartung: -1 + i, -i, -1 + i, ...\n",
    "c = Complex(0, 1)\n",
    "print(\"c \", c, \":\")\n",
    "z = iter(c, 10)"
   ]
  },
  {
   "cell_type": "markdown",
   "metadata": {},
   "source": [
    "Wenn du willst, kannst du das Verhalten für verschiedene Startwerte $c$ untersuchen. Es gibt viel verschiedenes zu entdecken!"
   ]
  },
  {
   "cell_type": "code",
   "execution_count": null,
   "metadata": {},
   "outputs": [],
   "source": [
    "..."
   ]
  },
  {
   "cell_type": "markdown",
   "metadata": {},
   "source": [
    "Du hast vielleicht bemerkt, dass die Iteration manchmal gegen $\\infty$ geht, also divergiert, und manchmal nicht. Unsere nächste Aufgabe ist es, eine Funktion zu schreiben, die entscheidet, ob die Iteration divergiert oder nicht.\n",
    "\n",
    "Das ist aber gar nicht so einfach, ohne ein wenig Vorarbeit. Auch wenn wir auf ein $z_107 = 1000 + 1000i$, kommen, wer sagt uns, dass die Folge nicht viellicht wieder zum Ursprung zurückkehrt? Tatsächlich gibt es aber eine elegante Garantie für diese Folge.\n",
    "***\n",
    "Lass uns annehmen, dass für unser $c$ gilt, dass der Abstand zum Ursprung $|c| \\leq 2$ ist.\n",
    "\n",
    "Lass uns außerdem annehmen, dass wir ein bestimmtes $n = m$ gefunden haben, sodass $|z_m| > 2$ ist.\n",
    "\n",
    "Was ist dann $|z_{m+1}|$?\n",
    "\n",
    "Wir können die Funktion $f$ einsetzen, und erhalten $|z_{m+1}| = |z_m^2 + c|$.\n",
    "\n",
    "Wenn wir $z_m$ und $c$ in ihrer Polarform schreiben, kommen wir voran: $z_m = r_m e^{i \\phi_m}$ und $c = r_c e^{i \\phi_c}$.\n",
    "\n",
    "Unsere Annahmen sagen uns, dass $r_c \\leq 2$ und $r_m > 2$.\n",
    "\n",
    "Einsetzen ergibt: $|z_{m+1}| = |z_m^2 + c| = |r_m^2 e^{2i \\phi_m} + r_c e^{i \\phi_c}|$.\n",
    "\n",
    "Der Faktor $r_m^2$ ist größer als 4, und der Faktor $r_c$ ist kleiner als 2. Wir können also abschätzen: $|z_{m+1}| > |4 e^{2i \\phi_m} + 2 e^{i \\phi_c}|$.\n",
    "\n",
    "Die rechte Seite wird minimiert, wenn die rechte komplexe Zahl genau in die entgegengesetzte Richtung von der linken zeigt. Ohne Verlust der Allgemeinheit können wir also annehmen, dass $\\phi_m = 0$ und $\\phi_c = \\pi$ ist.\n",
    "\n",
    "Dann ergibt sich für die Abschtzung: $|z_{m+1}| > |4 e^0 + 2 e^{i\\pi}| = |4 + 2 (-1)| = |2| = 2$\n",
    "\n",
    "***\n",
    "\n",
    "Wir haben also gezeigt, dass wenn $|z_m| > 2$ ist, dann ist auch $|z_{m+1}| > 2$. Das reicht noch nicht ganz, um zu zeigen dass die Folge ab diesem Punkt divergiert. Eine etwas genauere Analyse zeigt aber, dass die Differenz $|z_{m+1}| - |z_m|$ immer größer wird, und damit die Folge divergieren muss."
   ]
  },
  {
   "cell_type": "markdown",
   "metadata": {},
   "source": [
    "Wir können also eine Funktion `diverges(c, n)` schreiben, die entscheidet, ob die Iteration divergiert oder nicht. Diese Funktion soll maximal $n$ Iterationen durchführen und `True` zurückgeben, wenn der Betrag den Wert $2$ überschreitet. Andernfalls soll die Funktion `False` zurückgeben."
   ]
  },
  {
   "cell_type": "code",
   "execution_count": null,
   "metadata": {},
   "outputs": [],
   "source": [
    "def diverges(c, n):\n",
    "    ...\n",
    "\n",
    "print(diverges(Complex(-1.5, 0.5), 100))    # True\n",
    "print(diverges(Complex(0.1, 0.6), 100))     # False"
   ]
  },
  {
   "cell_type": "markdown",
   "metadata": {},
   "source": [
    "Wir können die Funktion `diverges` jetzt verwenden, um für jeden Startwert zu entscheiden, ob die Folge divergiert.\n",
    "\n",
    "Lass uns diese Eigenschaft für verschiedene Startwerde visualisieren.\n",
    "Zuerst definieren wir eine Liste `start_c` von komplexen Zahlen, die als Startwerte dienen. Wir nutzen alle Zahlen, die in einem Quadrat mit den Ecken $-2 - 2i$ und $2 + 2i$ liegen. Das Quadrat hat eine Seitenlänge von 4. Lass uns pro Längeneinheit 10 Zahlen generieren. Dann enthält unsere Liste insgesamt $41 * 41 = 1681$ Zahlen.\n",
    "\n",
    "Um diese Liste zu erzeugen benutzen wir eine Technik namens [List Comprehensions](https://docs.python.org/3/tutorial/datastructures.html#list-comprehensions).\n",
    "\n",
    "Unser Code kann so gelesen werden:\n",
    "1. Gehe alle Zahlen von 0 bis 40 durch und nenne sie im.\n",
    "2. Gehe alle Zahlen von 0 bis 40 durch und nenne sie re.\n",
    "3. Für jede Kombination von re und im erzeuge eine komplexe Zahl mit dem Realteil $\\frac{re}{10} - 2$ und dem Imaginärteil $\\frac{im}{10} - 2$.\n",
    "4. Füge diese komplexe Zahl in die Liste start_c ein."
   ]
  },
  {
   "cell_type": "code",
   "execution_count": null,
   "metadata": {},
   "outputs": [],
   "source": [
    "start_c = [Complex(re / 10 - 2, im / 10 - 2) for im in range(41) for re in range(41)]"
   ]
  },
  {
   "cell_type": "markdown",
   "metadata": {},
   "source": [
    "Jetzt wenden wir die Funktion `diverges` auf alle Elemente der Liste `start_c` an. Das Ergebnis speichern wir in der Liste `diverges_c`.\n",
    "\n",
    "Wir können entweder eine ausführliche for-Schleife schreiben, wieder eine List Comprehension verwenden, oder die Funktion `map` verwenden. Du hast die freie Wahl!"
   ]
  },
  {
   "cell_type": "code",
   "execution_count": null,
   "metadata": {},
   "outputs": [],
   "source": [
    "diverges_c = ..."
   ]
  },
  {
   "cell_type": "markdown",
   "metadata": {},
   "source": [
    "Zuletzt geben wir die Liste `diverges_c` als Bild aus. An all den Stellen, an denen die Folge konvergiert, geben wir das Zeichen `'#'` aus. Sonst geben wir ein Leerzeichen aus.\n",
    "\n",
    "Die Ausgabe speichern wir in der Datei `'bild.txt'`."
   ]
  },
  {
   "cell_type": "code",
   "execution_count": null,
   "metadata": {},
   "outputs": [],
   "source": [
    "s = \"\"\n",
    "for i in range(len(diverges_c)):\n",
    "\n",
    "    if (i % 41 == 0):\n",
    "        s += \"\\n\"\n",
    "    \n",
    "    if (diverges_c[i] == False):\n",
    "        s += \"#\"\n",
    "    else:\n",
    "        s += \" \"\n",
    "\n",
    "file = open(\"bild.txt\", \"w\")\n",
    "file.write(s)\n",
    "file.close()"
   ]
  },
  {
   "cell_type": "markdown",
   "metadata": {},
   "source": [
    "Fertig ist unser Bild!"
   ]
  }
 ],
 "metadata": {
  "kernelspec": {
   "display_name": ".venv",
   "language": "python",
   "name": "python3"
  },
  "language_info": {
   "codemirror_mode": {
    "name": "ipython",
    "version": 3
   },
   "file_extension": ".py",
   "mimetype": "text/x-python",
   "name": "python",
   "nbconvert_exporter": "python",
   "pygments_lexer": "ipython3",
   "version": "3.11.2"
  }
 },
 "nbformat": 4,
 "nbformat_minor": 2
}
